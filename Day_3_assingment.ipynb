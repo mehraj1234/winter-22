{
  "nbformat": 4,
  "nbformat_minor": 0,
  "metadata": {
    "colab": {
      "name": "Day 3 assingment.ipynb",
      "provenance": [],
      "collapsed_sections": [],
      "authorship_tag": "ABX9TyOHW3r7KMxwy6Z2S8z3kH9N",
      "include_colab_link": true
    },
    "kernelspec": {
      "name": "python3",
      "display_name": "Python 3"
    },
    "language_info": {
      "name": "python"
    }
  },
  "cells": [
    {
      "cell_type": "markdown",
      "metadata": {
        "id": "view-in-github",
        "colab_type": "text"
      },
      "source": [
        "<a href=\"https://colab.research.google.com/github/mehraj1234/winter-22/blob/main/Day_3_assingment.ipynb\" target=\"_parent\"><img src=\"https://colab.research.google.com/assets/colab-badge.svg\" alt=\"Open In Colab\"/></a>"
      ]
    },
    {
      "cell_type": "markdown",
      "source": [
        "# Lesson 4 – Looping\n"
      ],
      "metadata": {
        "id": "Y0x7yFVhYVOu"
      }
    },
    {
      "cell_type": "code",
      "source": [
        "# Create a list that holds 5 data variables. \n",
        "\n",
        "data = ['Elic', 'Tamim', 'Ahmmad', 'Joel', 'Peter']\n",
        "data"
      ],
      "metadata": {
        "colab": {
          "base_uri": "https://localhost:8080/"
        },
        "id": "fPgxI9sDaGBZ",
        "outputId": "dbaea93c-217b-48bb-8769-d5d000cb1da0"
      },
      "execution_count": null,
      "outputs": [
        {
          "output_type": "execute_result",
          "data": {
            "text/plain": [
              "['Elic', 'Tamim', 'Ahmmad', 'Joel', 'Peter']"
            ]
          },
          "metadata": {},
          "execution_count": 11
        }
      ]
    },
    {
      "cell_type": "code",
      "source": [
        "# Print out those variables by using a for loop.\n",
        "for t in data:\n",
        "  print(t)"
      ],
      "metadata": {
        "colab": {
          "base_uri": "https://localhost:8080/"
        },
        "id": "Bch3SIuPa6ip",
        "outputId": "0202c229-93a4-4364-c428-8744fe85d32c"
      },
      "execution_count": null,
      "outputs": [
        {
          "output_type": "stream",
          "name": "stdout",
          "text": [
            "Elic\n",
            "Tamim\n",
            "Ahmmad\n",
            "Joel\n",
            "Peter\n"
          ]
        }
      ]
    },
    {
      "cell_type": "code",
      "source": [
        "# Modify your for loop to add a message to your for loop.\n",
        "data = ['Elic', 'Tamim', 'Ahmmad', 'Joel', 'Peter']\n",
        "\n",
        "for t in data:\n",
        "  print(t.title() + \" one of my fav friend.\")"
      ],
      "metadata": {
        "colab": {
          "base_uri": "https://localhost:8080/"
        },
        "id": "LPqukWI7bF91",
        "outputId": "c6386872-f304-4a48-c711-89f9ee9f9ce0"
      },
      "execution_count": null,
      "outputs": [
        {
          "output_type": "stream",
          "name": "stdout",
          "text": [
            "Elic one of my fav friend.\n",
            "Tamim one of my fav friend.\n",
            "Ahmmad one of my fav friend.\n",
            "Joel one of my fav friend.\n",
            "Peter one of my fav friend.\n"
          ]
        }
      ]
    },
    {
      "cell_type": "code",
      "source": [
        "# Use a for loop to print even numbers from 1-20.\n",
        "t = [1,2,3,4,5,6,7,8,9,10,11,12,13,14,15,16,17,18,19,20]\n",
        "\n",
        "for r in t:\n",
        "  if(r%2)==0:\n",
        "    print(\"{0} is Even number\" .format(r))"
      ],
      "metadata": {
        "colab": {
          "base_uri": "https://localhost:8080/"
        },
        "id": "irwlwIuZeyxs",
        "outputId": "d9106894-14f6-451e-8905-5de33de11d1e"
      },
      "execution_count": null,
      "outputs": [
        {
          "output_type": "stream",
          "name": "stdout",
          "text": [
            "2 is Even number\n",
            "4 is Even number\n",
            "6 is Even number\n",
            "8 is Even number\n",
            "10 is Even number\n",
            "12 is Even number\n",
            "14 is Even number\n",
            "16 is Even number\n",
            "18 is Even number\n",
            "20 is Even number\n"
          ]
        }
      ]
    },
    {
      "cell_type": "code",
      "source": [
        "# Sort your list in alphabetic order.\n",
        "data"
      ],
      "metadata": {
        "colab": {
          "base_uri": "https://localhost:8080/"
        },
        "id": "OrntPR00fT1r",
        "outputId": "79435d14-c233-4fd9-95fc-0cfc3078df85"
      },
      "execution_count": null,
      "outputs": [
        {
          "output_type": "execute_result",
          "data": {
            "text/plain": [
              "['Elic', 'Tamim', 'Ahmmad', 'Joel', 'Peter']"
            ]
          },
          "metadata": {},
          "execution_count": 6
        }
      ]
    },
    {
      "cell_type": "code",
      "source": [
        "sorted(data)"
      ],
      "metadata": {
        "colab": {
          "base_uri": "https://localhost:8080/"
        },
        "id": "BbF3kthPgufo",
        "outputId": "6e307356-190e-4f71-e6fc-644172917ec0"
      },
      "execution_count": null,
      "outputs": [
        {
          "output_type": "execute_result",
          "data": {
            "text/plain": [
              "['Ahmmad', 'Elic', 'Joel', 'Peter', 'Tamim']"
            ]
          },
          "metadata": {},
          "execution_count": 7
        }
      ]
    },
    {
      "cell_type": "code",
      "source": [
        ""
      ],
      "metadata": {
        "id": "KHJwXoqMg01D"
      },
      "execution_count": null,
      "outputs": []
    },
    {
      "cell_type": "code",
      "source": [
        "# Print out the first three elements of your list.\n",
        "data = ['Elic', 'Tamim', 'Ahmmad', 'Joel', 'Peter']\n",
        "print(data[:3])\n"
      ],
      "metadata": {
        "colab": {
          "base_uri": "https://localhost:8080/"
        },
        "id": "JuMiHP4fg_r_",
        "outputId": "913d2291-f872-42c8-96eb-9a7231fb1236"
      },
      "execution_count": null,
      "outputs": [
        {
          "output_type": "stream",
          "name": "stdout",
          "text": [
            "['Elic', 'Tamim', 'Ahmmad']\n"
          ]
        }
      ]
    },
    {
      "cell_type": "code",
      "source": [
        "# Create a loop to print the last 2 elements of your list.\n",
        "\n",
        "data = ['Elic', 'Tamim', 'Ahmmad', 'Joel', 'Peter']\n",
        "\n",
        "for bb in data[-2:]:\n",
        "  print(bb)\n",
        "\n",
        "\n"
      ],
      "metadata": {
        "colab": {
          "base_uri": "https://localhost:8080/"
        },
        "id": "p_P4HvkwlFX3",
        "outputId": "52fb997c-a751-405a-e1a0-add6b0f756ec"
      },
      "execution_count": null,
      "outputs": [
        {
          "output_type": "stream",
          "name": "stdout",
          "text": [
            "Joel\n",
            "Peter\n"
          ]
        }
      ]
    },
    {
      "cell_type": "code",
      "source": [
        ""
      ],
      "metadata": {
        "id": "gAFaLTlcoKpe"
      },
      "execution_count": null,
      "outputs": []
    },
    {
      "cell_type": "markdown",
      "source": [
        "# Lesson: Unit 2 – Python Dictionaries"
      ],
      "metadata": {
        "id": "FjY6AiwMoVcz"
      }
    },
    {
      "cell_type": "code",
      "source": [
        "# Create a simple dictionary that stores 2 variables, for example: first and last name.\n",
        "First_name = {'first_name' : 'John'}\n",
        "Last_name = {'last_name' : 'kimble'}"
      ],
      "metadata": {
        "id": "TFNPpDCcoVQO"
      },
      "execution_count": null,
      "outputs": []
    },
    {
      "cell_type": "code",
      "source": [
        "# Print out those variables stored in your previous dictionary. \n",
        "print(First_name['first_name'])\n",
        "print(Last_name['last_name'])"
      ],
      "metadata": {
        "colab": {
          "base_uri": "https://localhost:8080/"
        },
        "id": "iYtH2ZWUrIIa",
        "outputId": "c394b743-f4df-4fc6-ca4f-e2321f48fc5b"
      },
      "execution_count": null,
      "outputs": [
        {
          "output_type": "stream",
          "name": "stdout",
          "text": [
            "John\n",
            "kimble\n"
          ]
        }
      ]
    },
    {
      "cell_type": "code",
      "source": [
        "# Add a message to those variables on printing: for example: “Hello, firstname lastname!”\n",
        "\n",
        "First_name = {'first_name' : 'John'}\n",
        "Last_name = {'last_name' : 'kimble'}\n",
        "names = First_name['first_name'] + ' ' + Last_name['last_name']\n",
        "print(\"Hello, My name is \" + names)"
      ],
      "metadata": {
        "colab": {
          "base_uri": "https://localhost:8080/"
        },
        "id": "FtLRra0jrXO-",
        "outputId": "57030f73-e353-46dc-9ed6-ff6f5fe112fe"
      },
      "execution_count": null,
      "outputs": [
        {
          "output_type": "stream",
          "name": "stdout",
          "text": [
            "Hello, My name is John kimble\n"
          ]
        }
      ]
    },
    {
      "cell_type": "code",
      "source": [
        "# Create a dictionary that holds 2 key: value pairs:\n",
        "# Look through your dictionary and print each pair,\n",
        "fruites = {'mango': 'five', 'orange': 'six'}\n",
        "fruites = {'mango' : 'five', 'orange': 'six'}\n",
        "print(fruites.items())"
      ],
      "metadata": {
        "colab": {
          "base_uri": "https://localhost:8080/"
        },
        "id": "s1a9Wk0ktggi",
        "outputId": "448f904c-96ee-41e5-afd3-638c2ef5e88d"
      },
      "execution_count": null,
      "outputs": [
        {
          "output_type": "stream",
          "name": "stdout",
          "text": [
            "dict_items([('mango', 'five'), ('orange', 'six')])\n"
          ]
        }
      ]
    },
    {
      "cell_type": "code",
      "source": [
        "# Create a nested dictionary containing three dictionaries – \n",
        "# these dictionaries could be anything (favorite pets, travel locations, etc.)\n",
        "# Loop through the dictionaries and print a message for each.\n",
        "\n",
        "coun = {'United States':{'New York' : {'Favorite Place' : 'Empire State'}},\n",
        "       'Canada' : {'Ottawa' : {'Favorite Place' : 'Ottawa River'}},\n",
        "       'Germant' : {'Berlin' : {'Favorite Place' : 'Brandenburg Gate'}}}\n",
        "\n",
        "for h,i in coun.items():\n",
        "  print(h + ' best city ' + str(i))\n",
        "\n"
      ],
      "metadata": {
        "colab": {
          "base_uri": "https://localhost:8080/"
        },
        "id": "XwP5xg8uvKRs",
        "outputId": "ff75fd59-3711-41b5-eecd-4c78bd699af0"
      },
      "execution_count": null,
      "outputs": [
        {
          "output_type": "stream",
          "name": "stdout",
          "text": [
            "United States best city {'New York': {'Favorite Place': 'Empire State'}}\n",
            "Canada best city {'Ottawa': {'Favorite Place': 'Ottawa River'}}\n",
            "Germant best city {'Berlin': {'Favorite Place': 'Brandenburg Gate'}}\n"
          ]
        }
      ]
    }
  ]
}