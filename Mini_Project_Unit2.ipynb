{
  "nbformat": 4,
  "nbformat_minor": 0,
  "metadata": {
    "colab": {
      "name": "Mini_Project_Unit2.ipynb",
      "provenance": [],
      "collapsed_sections": [],
      "authorship_tag": "ABX9TyNT5LhL5zoSbR/qqedwYM1C",
      "include_colab_link": true
    },
    "kernelspec": {
      "name": "python3",
      "display_name": "Python 3"
    },
    "language_info": {
      "name": "python"
    }
  },
  "cells": [
    {
      "cell_type": "markdown",
      "metadata": {
        "id": "view-in-github",
        "colab_type": "text"
      },
      "source": [
        "<a href=\"https://colab.research.google.com/github/mehraj1234/winter-22/blob/main/Mini_Project_Unit2.ipynb\" target=\"_parent\"><img src=\"https://colab.research.google.com/assets/colab-badge.svg\" alt=\"Open In Colab\"/></a>"
      ]
    },
    {
      "cell_type": "markdown",
      "source": [
        "# MINI PROJECT\n"
      ],
      "metadata": {
        "id": "MvMUSj-GzSEz"
      }
    },
    {
      "cell_type": "code",
      "source": [
        "def main():\n",
        "  # Define main\n",
        "    if( (int(input(\"Go-Ahead, Give me a number \"))) % 2 == 0):\n",
        "      # program to tell a number is odd or even\n",
        "        print(\"This is an even number\")\n",
        "    else:\n",
        "        print(\"This is an odd number\")\n",
        "main()"
      ],
      "metadata": {
        "colab": {
          "base_uri": "https://localhost:8080/"
        },
        "id": "hGzB5du8PKHT",
        "outputId": "5b654732-2e85-4040-d235-297a2b69c8bf"
      },
      "execution_count": 10,
      "outputs": [
        {
          "output_type": "stream",
          "name": "stdout",
          "text": [
            "Go-Ahead, Give me a number 4\n",
            "This is an even number\n"
          ]
        }
      ]
    },
    {
      "cell_type": "markdown",
      "source": [
        "# For Bonus"
      ],
      "metadata": {
        "id": "0QH6kFQvU0Mt"
      }
    },
    {
      "cell_type": "code",
      "source": [
        "def main():\n",
        "   # Define main\n",
        "    number = get_number() \n",
        "    # check divine number by 2\n",
        "    if(number  % 2 == 0):\n",
        "      # print number if is even number\n",
        "        print(\"This number is even number\")\n",
        "        # check if the number is a multiple of 4\n",
        "        if(number % 4 == 0):\n",
        "          # Print to the screen.\n",
        "           print(\"This is a even number and multiple of 4\")\n",
        "    else:\n",
        "        # print number if is odd number\n",
        "        print(\"This is an Odd number\")\n",
        "        # ask the user for two numbers\n",
        "    num,check= get_number() , get_number()\n",
        "    if (num % check == 0):\n",
        "        print(\"{} check divides evenly into num {}\".format(num,check))\n",
        "    else:\n",
        "        print(\"{} Check does not divide evenly into num {}\".format(num,check))\n",
        "# Difine get_number        \n",
        "def get_number():\n",
        "       return int(input(\"Enter your number whatever in your mind \"))\n",
        "# call the function\n",
        "main()"
      ],
      "metadata": {
        "colab": {
          "base_uri": "https://localhost:8080/"
        },
        "id": "kVY0K0d5PJ3_",
        "outputId": "4c41242a-07b5-4436-b499-269adfc6b172"
      },
      "execution_count": 6,
      "outputs": [
        {
          "output_type": "stream",
          "name": "stdout",
          "text": [
            "Enter your number whatever in your mind 4\n",
            "This number is even number\n",
            "This is a even number and multiple of 4\n",
            "Enter your number whatever in your mind 50\n",
            "Enter your number whatever in your mind 5\n",
            "50 check divides evenly into num 5\n"
          ]
        }
      ]
    }
  ]
}